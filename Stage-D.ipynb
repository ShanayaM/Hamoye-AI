{
 "cells": [
  {
   "cell_type": "code",
   "execution_count": null,
   "metadata": {
    "_cell_guid": "b1076dfc-b9ad-4769-8c92-a6c4dae69d19",
    "_uuid": "8f2839f25d086af736a60e9eeb907d3b93b6e0e5",
    "execution": {
     "iopub.execute_input": "2021-10-22T06:46:51.340772Z",
     "iopub.status.busy": "2021-10-22T06:46:51.339236Z",
     "iopub.status.idle": "2021-10-22T06:46:55.817023Z",
     "shell.execute_reply": "2021-10-22T06:46:55.816162Z",
     "shell.execute_reply.started": "2021-10-22T06:42:36.578823Z"
    },
    "papermill": {
     "duration": 4.504321,
     "end_time": "2021-10-22T06:46:55.817190",
     "exception": false,
     "start_time": "2021-10-22T06:46:51.312869",
     "status": "completed"
    },
    "tags": []
   },
   "outputs": [],
   "source": [
    "import os\n",
    "import numpy as np\n",
    "import pandas as pd\n",
    "import matplotlib.pyplot as plt\n",
    "import gc\n",
    "from keras.preprocessing.image import load_img\n",
    "from keras.preprocessing.image import img_to_array\n",
    "gc.enable()"
   ]
  },
  {
   "cell_type": "code",
   "execution_count": null,
   "metadata": {
    "execution": {
     "iopub.execute_input": "2021-10-22T06:46:55.867757Z",
     "iopub.status.busy": "2021-10-22T06:46:55.866967Z",
     "iopub.status.idle": "2021-10-22T06:46:55.869044Z",
     "shell.execute_reply": "2021-10-22T06:46:55.869542Z",
     "shell.execute_reply.started": "2021-10-22T06:42:43.439133Z"
    },
    "papermill": {
     "duration": 0.02812,
     "end_time": "2021-10-22T06:46:55.869692",
     "exception": false,
     "start_time": "2021-10-22T06:46:55.841572",
     "status": "completed"
    },
    "tags": []
   },
   "outputs": [],
   "source": [
    "PLANET_KAGGLE_ROOT = os.path.abspath(\"../input/\")\n",
    "PLANET_KAGGLE_JPEG_DIR = os.path.join(PLANET_KAGGLE_ROOT, '../input/planets-dataset/planet/planet/train-jpg/')\n",
    "PLANET_KAGGLE_LABEL_CSV = os.path.join(PLANET_KAGGLE_ROOT, '../input/planets-dataset/planet/planet/train_classes.csv')"
   ]
  },
  {
   "cell_type": "code",
   "execution_count": null,
   "metadata": {
    "execution": {
     "iopub.execute_input": "2021-10-22T06:46:55.915922Z",
     "iopub.status.busy": "2021-10-22T06:46:55.915297Z",
     "iopub.status.idle": "2021-10-22T06:46:55.970819Z",
     "shell.execute_reply": "2021-10-22T06:46:55.971201Z",
     "shell.execute_reply.started": "2021-10-22T06:42:45.934045Z"
    },
    "papermill": {
     "duration": 0.080674,
     "end_time": "2021-10-22T06:46:55.971372",
     "exception": false,
     "start_time": "2021-10-22T06:46:55.890698",
     "status": "completed"
    },
    "tags": []
   },
   "outputs": [],
   "source": [
    "train_classes = pd.read_csv(PLANET_KAGGLE_LABEL_CSV)"
   ]
  },
  {
   "cell_type": "code",
   "execution_count": null,
   "metadata": {
    "execution": {
     "iopub.execute_input": "2021-10-22T06:46:56.068648Z",
     "iopub.status.busy": "2021-10-22T06:46:56.048386Z",
     "iopub.status.idle": "2021-10-22T06:46:56.330247Z",
     "shell.execute_reply": "2021-10-22T06:46:56.330694Z",
     "shell.execute_reply.started": "2021-10-22T06:42:47.719768Z"
    },
    "papermill": {
     "duration": 0.338498,
     "end_time": "2021-10-22T06:46:56.330847",
     "exception": false,
     "start_time": "2021-10-22T06:46:55.992349",
     "status": "completed"
    },
    "tags": []
   },
   "outputs": [],
   "source": [
    "labels = set()\n",
    "for i in range(len(train_classes)):\n",
    "    tags = train_classes['tags'][i].split(' ')\n",
    "    labels.update(tags)\n",
    "    \n",
    "    \n",
    "label_list = list(labels)\n",
    "label_list"
   ]
  },
  {
   "cell_type": "code",
   "execution_count": null,
   "metadata": {
    "execution": {
     "iopub.execute_input": "2021-10-22T06:46:56.395715Z",
     "iopub.status.busy": "2021-10-22T06:46:56.380392Z",
     "iopub.status.idle": "2021-10-22T06:46:56.916921Z",
     "shell.execute_reply": "2021-10-22T06:46:56.917372Z",
     "shell.execute_reply.started": "2021-10-22T06:42:52.076911Z"
    },
    "papermill": {
     "duration": 0.56397,
     "end_time": "2021-10-22T06:46:56.917528",
     "exception": false,
     "start_time": "2021-10-22T06:46:56.353558",
     "status": "completed"
    },
    "tags": []
   },
   "outputs": [],
   "source": [
    "# Add onehot features for every label\n",
    "for label in label_list:\n",
    "    train_classes[label] = train_classes['tags'].apply(lambda x: 1 if label in x.split(' ') else 0)\n",
    "\n",
    "train_classes[\"image_name\"] = train_classes[\"image_name\"] + \".jpg\"\n",
    "\n",
    "train_classes.head()"
   ]
  },
  {
   "cell_type": "code",
   "execution_count": null,
   "metadata": {
    "execution": {
     "iopub.execute_input": "2021-10-22T06:46:56.965009Z",
     "iopub.status.busy": "2021-10-22T06:46:56.964206Z",
     "iopub.status.idle": "2021-10-22T06:46:56.966313Z",
     "shell.execute_reply": "2021-10-22T06:46:56.966713Z",
     "shell.execute_reply.started": "2021-10-22T06:42:59.692255Z"
    },
    "papermill": {
     "duration": 0.02751,
     "end_time": "2021-10-22T06:46:56.966851",
     "exception": false,
     "start_time": "2021-10-22T06:46:56.939341",
     "status": "completed"
    },
    "tags": []
   },
   "outputs": [],
   "source": [
    "y_col = list(train_classes.columns[2:])"
   ]
  },
  {
   "cell_type": "code",
   "execution_count": null,
   "metadata": {
    "execution": {
     "iopub.execute_input": "2021-10-22T06:46:57.015222Z",
     "iopub.status.busy": "2021-10-22T06:46:57.014621Z",
     "iopub.status.idle": "2021-10-22T06:46:57.548371Z",
     "shell.execute_reply": "2021-10-22T06:46:57.548860Z",
     "shell.execute_reply.started": "2021-10-22T06:43:14.415108Z"
    },
    "papermill": {
     "duration": 0.560544,
     "end_time": "2021-10-22T06:46:57.549013",
     "exception": false,
     "start_time": "2021-10-22T06:46:56.988469",
     "status": "completed"
    },
    "tags": []
   },
   "outputs": [],
   "source": [
    "import tensorflow as tf\n",
    "from sklearn.metrics import fbeta_score\n",
    "from keras import backend\n",
    "from keras.preprocessing.image import ImageDataGenerator\n",
    "from keras.models import Sequential\n",
    "from keras.layers import Conv2D\n",
    "from keras.layers import MaxPooling2D\n",
    "from keras.layers import Dense\n",
    "from keras.layers import Flatten\n",
    "from keras import backend\n",
    "from keras.models import Model\n",
    "from keras.layers import Dropout"
   ]
  },
  {
   "cell_type": "code",
   "execution_count": null,
   "metadata": {
    "execution": {
     "iopub.execute_input": "2021-10-22T06:46:57.596786Z",
     "iopub.status.busy": "2021-10-22T06:46:57.596234Z",
     "iopub.status.idle": "2021-10-22T06:47:34.012414Z",
     "shell.execute_reply": "2021-10-22T06:47:34.012872Z",
     "shell.execute_reply.started": "2021-10-22T06:43:17.150823Z"
    },
    "papermill": {
     "duration": 36.44243,
     "end_time": "2021-10-22T06:47:34.013017",
     "exception": false,
     "start_time": "2021-10-22T06:46:57.570587",
     "status": "completed"
    },
    "tags": []
   },
   "outputs": [],
   "source": [
    "# initializing an image generator with some data augumentation\n",
    "image_gen = ImageDataGenerator(rescale=1./255.)\n",
    "\n",
    "# loading images from dataframe\n",
    "X = image_gen.flow_from_dataframe(dataframe=train_classes,\n",
    "        directory='/kaggle/input/planets-dataset/planet/planet/train-jpg/', x_col='image_name', y_col=y_col,\n",
    "       target_size=(128, 128), class_mode='raw', seed=1, batch_size=128)"
   ]
  },
  {
   "cell_type": "code",
   "execution_count": null,
   "metadata": {
    "execution": {
     "iopub.execute_input": "2021-10-22T06:47:34.063969Z",
     "iopub.status.busy": "2021-10-22T06:47:34.063251Z",
     "iopub.status.idle": "2021-10-22T06:47:34.065425Z",
     "shell.execute_reply": "2021-10-22T06:47:34.065854Z",
     "shell.execute_reply.started": "2021-10-22T06:44:27.636637Z"
    },
    "papermill": {
     "duration": 0.031146,
     "end_time": "2021-10-22T06:47:34.065988",
     "exception": false,
     "start_time": "2021-10-22T06:47:34.034842",
     "status": "completed"
    },
    "tags": []
   },
   "outputs": [],
   "source": [
    "def fbeta(y_true , y_pred, beta=2, epsilon=1e-4):\n",
    "    squared_beta = beta**2\n",
    "\n",
    "    y_true = tf.cast(y_true, tf.float32)\n",
    "    y_pred = tf.cast(tf.greater(tf.cast(y_pred, tf.float32), tf.constant(0.2)), tf.float32)\n",
    "        \n",
    "    tp = tf.reduce_sum(y_true * y_pred, axis=1)\n",
    "    fp = tf.reduce_sum(y_pred, axis=1) - tp\n",
    "    fn = tf.reduce_sum(y_true, axis=1) - tp\n",
    "    \n",
    "    p = tp/(tp+fp+epsilon)   #precision\n",
    "    r = tp/(tp+fn+epsilon)   #recall\n",
    "    \n",
    "    fb = (1+squared_beta)*p*r / (squared_beta*p + r + epsilon)\n",
    "    return fb"
   ]
  },
  {
   "cell_type": "code",
   "execution_count": null,
   "metadata": {
    "execution": {
     "iopub.execute_input": "2021-10-22T06:47:34.120054Z",
     "iopub.status.busy": "2021-10-22T06:47:34.119093Z",
     "iopub.status.idle": "2021-10-22T06:48:01.371823Z",
     "shell.execute_reply": "2021-10-22T06:48:01.372306Z",
     "shell.execute_reply.started": "2021-10-22T06:44:27.649188Z"
    },
    "papermill": {
     "duration": 27.284539,
     "end_time": "2021-10-22T06:48:01.372487",
     "exception": false,
     "start_time": "2021-10-22T06:47:34.087948",
     "status": "completed"
    },
    "tags": []
   },
   "outputs": [],
   "source": [
    "train_image_generator =ImageDataGenerator(rescale=1/255,validation_split=0.1,\n",
    "                                          rotation_range = 180, horizontal_flip = True)\n",
    "\n",
    "# using a validation split here\n",
    "\n",
    "# generating the 90% training image data\n",
    "train_generator = train_image_generator.flow_from_dataframe(dataframe=train_classes,\n",
    "        directory='../input/planets-dataset/planet/planet/train-jpg/', x_col='image_name', y_col=y_col,\n",
    "       target_size=(128, 128), class_mode='raw', seed=0, batch_size=128, subset='training')\n",
    "\n",
    "# generating the 10% validation image data\n",
    "validation_generator = train_image_generator.flow_from_dataframe(dataframe=train_classes,\n",
    "        directory='../input/planets-dataset/planet/planet/train-jpg/', x_col='image_name', y_col=y_col,\n",
    "       target_size=(128, 128), class_mode='raw', seed=0, batch_size=128, subset='validation')"
   ]
  },
  {
   "cell_type": "code",
   "execution_count": null,
   "metadata": {
    "execution": {
     "iopub.execute_input": "2021-10-22T06:48:01.425302Z",
     "iopub.status.busy": "2021-10-22T06:48:01.423519Z",
     "iopub.status.idle": "2021-10-22T06:48:01.425948Z",
     "shell.execute_reply": "2021-10-22T06:48:01.426391Z",
     "shell.execute_reply.started": "2021-10-22T06:44:52.526481Z"
    },
    "papermill": {
     "duration": 0.030795,
     "end_time": "2021-10-22T06:48:01.426532",
     "exception": false,
     "start_time": "2021-10-22T06:48:01.395737",
     "status": "completed"
    },
    "tags": []
   },
   "outputs": [],
   "source": [
    "# setting step size for training and validation image data\n",
    "train_step_size = int(np.ceil(train_generator.samples / train_generator.batch_size))\n",
    "val_step_size = int(np.ceil(validation_generator.samples / train_generator.batch_size))"
   ]
  },
  {
   "cell_type": "code",
   "execution_count": null,
   "metadata": {
    "execution": {
     "iopub.execute_input": "2021-10-22T06:48:01.480977Z",
     "iopub.status.busy": "2021-10-22T06:48:01.479980Z",
     "iopub.status.idle": "2021-10-22T06:48:05.936399Z",
     "shell.execute_reply": "2021-10-22T06:48:05.936926Z",
     "shell.execute_reply.started": "2021-10-22T06:45:03.555410Z"
    },
    "papermill": {
     "duration": 4.48753,
     "end_time": "2021-10-22T06:48:05.937077",
     "exception": false,
     "start_time": "2021-10-22T06:48:01.449547",
     "status": "completed"
    },
    "tags": []
   },
   "outputs": [],
   "source": [
    "# from tensorflow import keras\n",
    "\n",
    "# Using Resnet50 model\n",
    "\n",
    "in_shape=(128, 128, 3)\n",
    "out_shape=17\n",
    "\n",
    "\n",
    "resnet50 = keras.applications.resnet50\n",
    "conv_model = resnet50.ResNet50(weights='imagenet', include_top=False, input_shape=in_shape)\n",
    "\n",
    "# adding new classifier layers\n",
    "layer1 = Flatten()(conv_model.layers[-1].output)\n",
    "layer2 = Dense(128, activation='relu', kernel_initializer='he_uniform')(layer1)\n",
    "layer3 = Dense(128, activation='relu', kernel_initializer='he_uniform')(layer2)\n",
    "layer4 = Dense(128, activation='relu', kernel_initializer='he_uniform')(layer3)\n",
    "predictions = Dense(out_shape, activation='sigmoid')(class2)\n",
    "\n",
    "full_model = keras.models.Model(inputs=conv_model.input, outputs=predictions)\n",
    "full_model.summary()"
   ]
  },
  {
   "cell_type": "code",
   "execution_count": null,
   "metadata": {
    "execution": {
     "iopub.execute_input": "2021-10-22T06:48:06.004013Z",
     "iopub.status.busy": "2021-10-22T06:48:06.003155Z",
     "iopub.status.idle": "2021-10-22T06:48:06.011049Z",
     "shell.execute_reply": "2021-10-22T06:48:06.010600Z",
     "shell.execute_reply.started": "2021-10-22T06:45:21.398794Z"
    },
    "papermill": {
     "duration": 0.045791,
     "end_time": "2021-10-22T06:48:06.011157",
     "exception": false,
     "start_time": "2021-10-22T06:48:05.965366",
     "status": "completed"
    },
    "tags": []
   },
   "outputs": [],
   "source": [
    "# compile model\n",
    "opt = keras.optimizers.Adam(learning_rate=0.0001)\n",
    "full_model.compile(optimizer=opt, loss='binary_crossentropy', metrics=[fbeta])"
   ]
  },
  {
   "cell_type": "code",
   "execution_count": null,
   "metadata": {
    "execution": {
     "iopub.execute_input": "2021-10-22T06:48:06.071074Z",
     "iopub.status.busy": "2021-10-22T06:48:06.070259Z",
     "iopub.status.idle": "2021-10-22T06:48:06.072644Z",
     "shell.execute_reply": "2021-10-22T06:48:06.072176Z",
     "shell.execute_reply.started": "2021-10-22T06:45:34.755106Z"
    },
    "papermill": {
     "duration": 0.034445,
     "end_time": "2021-10-22T06:48:06.072761",
     "exception": false,
     "start_time": "2021-10-22T06:48:06.038316",
     "status": "completed"
    },
    "tags": []
   },
   "outputs": [],
   "source": [
    "from tensorflow.python.keras.callbacks import EarlyStopping, ModelCheckpoint\n",
    "\n",
    "checkpoint = ModelCheckpoint(filepath='resnet50_model_wts.hdf5',monitor='val_fbeta', \n",
    "                             save_best_only=True, save_weights_only=True, mode='max', verbose = 1)\n",
    "early = EarlyStopping(monitor='val_fbeta', min_delta=0, patience=10, verbose=1, mode='max')"
   ]
  },
  {
   "cell_type": "code",
   "execution_count": null,
   "metadata": {
    "execution": {
     "iopub.execute_input": "2021-10-22T06:48:06.133196Z",
     "iopub.status.busy": "2021-10-22T06:48:06.132392Z",
     "iopub.status.idle": "2021-10-22T08:06:33.376339Z",
     "shell.execute_reply": "2021-10-22T08:06:33.375593Z",
     "shell.execute_reply.started": "2021-10-20T03:18:11.006224Z"
    },
    "papermill": {
     "duration": 4707.277014,
     "end_time": "2021-10-22T08:06:33.376533",
     "exception": false,
     "start_time": "2021-10-22T06:48:06.099519",
     "status": "completed"
    },
    "tags": []
   },
   "outputs": [],
   "source": [
    "# fit model\n",
    "history = full_model.fit(train_generator, steps_per_epoch=train_step_size, \n",
    "                                  validation_data=validation_generator, validation_steps=val_step_size, \n",
    "                                   epochs=30, callbacks=[checkpoint,early])"
   ]
  },
  {
   "cell_type": "code",
   "execution_count": null,
   "metadata": {
    "execution": {
     "iopub.execute_input": "2021-10-22T08:06:36.125563Z",
     "iopub.status.busy": "2021-10-22T08:06:36.124719Z",
     "iopub.status.idle": "2021-10-22T08:07:37.436468Z",
     "shell.execute_reply": "2021-10-22T08:07:37.435990Z",
     "shell.execute_reply.started": "2021-10-20T04:49:54.205944Z"
    },
    "papermill": {
     "duration": 62.688685,
     "end_time": "2021-10-22T08:07:37.436591",
     "exception": false,
     "start_time": "2021-10-22T08:06:34.747906",
     "status": "completed"
    },
    "tags": []
   },
   "outputs": [],
   "source": [
    "plt.figure(1, figsize = (8,8)) \n",
    "plt.subplot(211)\n",
    "plt.title('Cross Entropy Loss')\n",
    "plt.plot(history.history['loss'], color='blue', label='train')\n",
    "plt.plot(history.history['val_loss'], color='orange', label='test')\n",
    "plt.ylabel('loss')  \n",
    "plt.xlabel('epoch')  \n",
    "plt.legend(['train', 'valid']) \n",
    "\n",
    "# plot accuracy\n",
    "plt.subplot(212)\n",
    "plt.title('Fbeta')\n",
    "plt.plot(history.history['fbeta'], color='blue', label='train')\n",
    "plt.plot(history.history['val_fbeta'], color='orange', label='test')\n",
    "plt.ylabel('accuracy')  \n",
    "plt.xlabel('epoch')  \n",
    "plt.legend(['train', 'valid']) "
   ]
  },
  {
   "cell_type": "code",
   "execution_count": null,
   "metadata": {
    "execution": {
     "iopub.execute_input": "2021-10-22T08:07:40.185821Z",
     "iopub.status.busy": "2021-10-22T08:07:40.184938Z",
     "iopub.status.idle": "2021-10-22T08:07:40.506836Z",
     "shell.execute_reply": "2021-10-22T08:07:40.505805Z",
     "shell.execute_reply.started": "2021-10-20T04:49:54.739302Z"
    },
    "papermill": {
     "duration": 1.707126,
     "end_time": "2021-10-22T08:07:40.506975",
     "exception": false,
     "start_time": "2021-10-22T08:07:38.799849",
     "status": "completed"
    },
    "tags": []
   },
   "outputs": [],
   "source": [
    "model2 = full_model # building a sequential model for testing\n",
    "\n",
    "#loading in the weights of the trained model\n",
    "model2.load_weights('resnet50_model_wts.hdf5')"
   ]
  },
  {
   "cell_type": "code",
   "execution_count": null,
   "metadata": {
    "execution": {
     "iopub.execute_input": "2021-10-22T08:07:43.320165Z",
     "iopub.status.busy": "2021-10-22T08:07:43.319590Z",
     "iopub.status.idle": "2021-10-22T08:07:43.431968Z",
     "shell.execute_reply": "2021-10-22T08:07:43.432415Z",
     "shell.execute_reply.started": "2021-10-20T04:49:55.170294Z"
    },
    "papermill": {
     "duration": 1.483835,
     "end_time": "2021-10-22T08:07:43.432564",
     "exception": false,
     "start_time": "2021-10-22T08:07:41.948729",
     "status": "completed"
    },
    "tags": []
   },
   "outputs": [],
   "source": [
    "sample_submission_df = pd.read_csv('../input/planets-dataset/planet/planet/sample_submission.csv')\n",
    "sample_submission_df.head()\n",
    "\n",
    "# adding .jpg extension to 'image_name' in sample_submission data\n",
    "sample_sub = sample_submission_df.copy()\n",
    "sample_sub['image_name'] = sample_sub['image_name'].apply(lambda i: '{}.jpg'.format(i))\n",
    "sample_sub.head()"
   ]
  },
  {
   "cell_type": "code",
   "execution_count": null,
   "metadata": {
    "execution": {
     "iopub.execute_input": "2021-10-22T08:07:46.413335Z",
     "iopub.status.busy": "2021-10-22T08:07:46.412210Z",
     "iopub.status.idle": "2021-10-22T08:07:46.420547Z",
     "shell.execute_reply": "2021-10-22T08:07:46.420972Z",
     "shell.execute_reply.started": "2021-10-20T04:49:55.295023Z"
    },
    "papermill": {
     "duration": 1.484916,
     "end_time": "2021-10-22T08:07:46.421107",
     "exception": false,
     "start_time": "2021-10-22T08:07:44.936191",
     "status": "completed"
    },
    "tags": []
   },
   "outputs": [],
   "source": [
    "# selecting the first 40669 image_name from the sample_submission to generate image data for test.jpg\n",
    "test1 = sample_sub.iloc[:40669]['image_name'].reset_index().drop('index', axis=1)\n",
    "test1.head()"
   ]
  },
  {
   "cell_type": "code",
   "execution_count": null,
   "metadata": {
    "execution": {
     "iopub.execute_input": "2021-10-22T08:07:49.139555Z",
     "iopub.status.busy": "2021-10-22T08:07:49.138349Z",
     "iopub.status.idle": "2021-10-22T08:07:49.142897Z",
     "shell.execute_reply": "2021-10-22T08:07:49.143434Z",
     "shell.execute_reply.started": "2021-10-20T04:49:55.312882Z"
    },
    "papermill": {
     "duration": 1.36655,
     "end_time": "2021-10-22T08:07:49.143597",
     "exception": false,
     "start_time": "2021-10-22T08:07:47.777047",
     "status": "completed"
    },
    "tags": []
   },
   "outputs": [],
   "source": [
    "# to check the shape of the first test\n",
    "test1.shape"
   ]
  },
  {
   "cell_type": "code",
   "execution_count": null,
   "metadata": {
    "execution": {
     "iopub.execute_input": "2021-10-22T08:07:51.982440Z",
     "iopub.status.busy": "2021-10-22T08:07:51.966946Z",
     "iopub.status.idle": "2021-10-22T08:08:49.331322Z",
     "shell.execute_reply": "2021-10-22T08:08:49.331814Z",
     "shell.execute_reply.started": "2021-10-20T04:49:55.321993Z"
    },
    "papermill": {
     "duration": 58.775561,
     "end_time": "2021-10-22T08:08:49.331973",
     "exception": false,
     "start_time": "2021-10-22T08:07:50.556412",
     "status": "completed"
    },
    "tags": []
   },
   "outputs": [],
   "source": [
    "# initializing an image data generator object for the test1\n",
    "test_image_generator1 = ImageDataGenerator(rescale=1/255)\n",
    "\n",
    "\n",
    "test_generator1 = test_image_generator1.flow_from_dataframe(dataframe=test1,\n",
    "            directory='../input/planets-dataset/planet/planet/test-jpg', x_col='image_name', y_col=None,\n",
    "            batch_size=128, shuffle=False, class_mode=None, target_size=(128, 128))\n",
    "\n",
    "# setting the step size \n",
    "test_step_size1 = int(np.ceil(test_generator1.samples / test_generator1.batch_size))"
   ]
  },
  {
   "cell_type": "code",
   "execution_count": null,
   "metadata": {
    "execution": {
     "iopub.execute_input": "2021-10-22T08:08:52.347997Z",
     "iopub.status.busy": "2021-10-22T08:08:52.346540Z",
     "iopub.status.idle": "2021-10-22T08:13:08.028254Z",
     "shell.execute_reply": "2021-10-22T08:13:08.027816Z",
     "shell.execute_reply.started": "2021-10-20T04:51:02.800554Z"
    },
    "papermill": {
     "duration": 257.248732,
     "end_time": "2021-10-22T08:13:08.028414",
     "exception": false,
     "start_time": "2021-10-22T08:08:50.779682",
     "status": "completed"
    },
    "tags": []
   },
   "outputs": [],
   "source": [
    "# reseting the generator to avoid shuffling\n",
    "\n",
    "test_generator1.reset() \n",
    "\n",
    "# prediction for test1\n",
    "prediction1 = model2.predict(test_generator1, steps=test_step_size1, verbose=1) "
   ]
  },
  {
   "cell_type": "code",
   "execution_count": null,
   "metadata": {
    "execution": {
     "iopub.execute_input": "2021-10-22T08:13:14.701816Z",
     "iopub.status.busy": "2021-10-22T08:13:14.699743Z",
     "iopub.status.idle": "2021-10-22T08:13:19.944620Z",
     "shell.execute_reply": "2021-10-22T08:13:19.943915Z",
     "shell.execute_reply.started": "2021-10-20T04:55:28.863824Z"
    },
    "papermill": {
     "duration": 10.464562,
     "end_time": "2021-10-22T08:13:19.944760",
     "exception": false,
     "start_time": "2021-10-22T08:13:09.480198",
     "status": "completed"
    },
    "tags": []
   },
   "outputs": [],
   "source": [
    "# obtaining the filenames from test_generator\n",
    "filenames1 = test_generator1.filenames \n",
    "        \n",
    "# converting the predictions of the first 40669 to tag names\n",
    "predict_tags1 = pd.DataFrame(prediction1)\n",
    "predict_tags1 = predict_tags1.apply(lambda x: ' '.join(np.array(label_list)[x > 0.2]), axis=1)\n",
    "\n",
    "# converting the predictions of the first 40669 to a dataframe\n",
    "result_df1 = pd.DataFrame({'image_name': filenames1, 'tags': predict_tags1})\n",
    "result_df1.head()"
   ]
  },
  {
   "cell_type": "code",
   "execution_count": null,
   "metadata": {
    "execution": {
     "iopub.execute_input": "2021-10-22T08:13:22.841795Z",
     "iopub.status.busy": "2021-10-22T08:13:22.840595Z",
     "iopub.status.idle": "2021-10-22T08:13:22.844333Z",
     "shell.execute_reply": "2021-10-22T08:13:22.843881Z",
     "shell.execute_reply.started": "2021-10-20T04:55:39.390595Z"
    },
    "papermill": {
     "duration": 1.459608,
     "end_time": "2021-10-22T08:13:22.844459",
     "exception": false,
     "start_time": "2021-10-22T08:13:21.384851",
     "status": "completed"
    },
    "tags": []
   },
   "outputs": [],
   "source": [
    "# selecting the remaining image_name from the sample_submission to generate image data for test-additional.jpg\n",
    "test2 = sample_sub.iloc[40669:]['image_name'].reset_index().drop('index', axis=1)\n",
    "test2.head()"
   ]
  },
  {
   "cell_type": "code",
   "execution_count": null,
   "metadata": {
    "execution": {
     "iopub.execute_input": "2021-10-22T08:13:25.927318Z",
     "iopub.status.busy": "2021-10-22T08:13:25.920959Z",
     "iopub.status.idle": "2021-10-22T08:13:53.652350Z",
     "shell.execute_reply": "2021-10-22T08:13:53.652898Z",
     "shell.execute_reply.started": "2021-10-20T04:55:39.414688Z"
    },
    "papermill": {
     "duration": 29.306177,
     "end_time": "2021-10-22T08:13:53.653054",
     "exception": false,
     "start_time": "2021-10-22T08:13:24.346877",
     "status": "completed"
    },
    "tags": []
   },
   "outputs": [],
   "source": [
    "# initializing an image data generator object for the remaining images in the sample submission dataframe\n",
    "test_image_generator2 = ImageDataGenerator(rescale=1/255)\n",
    "\n",
    "\n",
    "test_generator2 = test_image_generator2.flow_from_dataframe(dataframe=test2, \n",
    "            directory='../input/planets-dataset/test-jpg-additional/test-jpg-additional', x_col='image_name', \n",
    "            y_col=None, batch_size=128, shuffle=False, class_mode=None, target_size=(128, 128))\n",
    "\n",
    "# setting the step size for test2\n",
    "test_step_size2 = int(np.ceil(test_generator2.samples / test_generator2.batch_size))"
   ]
  },
  {
   "cell_type": "code",
   "execution_count": null,
   "metadata": {
    "execution": {
     "iopub.execute_input": "2021-10-22T08:13:56.582463Z",
     "iopub.status.busy": "2021-10-22T08:13:56.581751Z",
     "iopub.status.idle": "2021-10-22T08:16:09.937711Z",
     "shell.execute_reply": "2021-10-22T08:16:09.938107Z"
    },
    "papermill": {
     "duration": 134.818513,
     "end_time": "2021-10-22T08:16:09.938306",
     "exception": false,
     "start_time": "2021-10-22T08:13:55.119793",
     "status": "completed"
    },
    "tags": []
   },
   "outputs": [],
   "source": [
    "# reseting the generator to avoid shuffling\n",
    "test_generator2.reset() \n",
    "\n",
    "# prediction for test2\n",
    "prediction2 = model2.predict(test_generator2, steps=test_step_size2, verbose=1)"
   ]
  },
  {
   "cell_type": "code",
   "execution_count": null,
   "metadata": {
    "execution": {
     "iopub.execute_input": "2021-10-22T08:16:14.546780Z",
     "iopub.status.busy": "2021-10-22T08:16:13.922619Z",
     "iopub.status.idle": "2021-10-22T08:16:17.159487Z",
     "shell.execute_reply": "2021-10-22T08:16:17.160064Z"
    },
    "papermill": {
     "duration": 5.451282,
     "end_time": "2021-10-22T08:16:17.160284",
     "exception": false,
     "start_time": "2021-10-22T08:16:11.709002",
     "status": "completed"
    },
    "tags": []
   },
   "outputs": [],
   "source": [
    "# obtaining the filenames from test_generator2\n",
    "filenames2 = test_generator2.filenames \n",
    "        \n",
    "# converting the predictions of the remaining images to tag names\n",
    "predict_tags2 = pd.DataFrame(prediction2)\n",
    "predict_tags2 = predict_tags2.apply(lambda x: ' '.join(np.array(label_list)[x > 0.2]), axis=1)\n",
    "\n",
    "# converting the predictions of the remaining to a dataframe\n",
    "result_df2 = pd.DataFrame({'image_name': filenames2, 'tags': predict_tags2})"
   ]
  },
  {
   "cell_type": "code",
   "execution_count": null,
   "metadata": {
    "execution": {
     "iopub.execute_input": "2021-10-22T08:16:20.232534Z",
     "iopub.status.busy": "2021-10-22T08:16:20.231684Z",
     "iopub.status.idle": "2021-10-22T08:16:20.244735Z",
     "shell.execute_reply": "2021-10-22T08:16:20.245149Z"
    },
    "papermill": {
     "duration": 1.588369,
     "end_time": "2021-10-22T08:16:20.245314",
     "exception": false,
     "start_time": "2021-10-22T08:16:18.656945",
     "status": "completed"
    },
    "tags": []
   },
   "outputs": [],
   "source": [
    "final_result = pd.concat([result_df1, result_df2]) \n",
    "    \n",
    "final_result = final_result.reset_index().drop('index', axis=1)\n",
    "\n",
    "print(final_result.shape)\n",
    "final_result.head()"
   ]
  },
  {
   "cell_type": "code",
   "execution_count": null,
   "metadata": {
    "execution": {
     "iopub.execute_input": "2021-10-22T08:16:23.516894Z",
     "iopub.status.busy": "2021-10-22T08:16:23.516066Z",
     "iopub.status.idle": "2021-10-22T08:16:23.518649Z",
     "shell.execute_reply": "2021-10-22T08:16:23.518190Z"
    },
    "papermill": {
     "duration": 1.671522,
     "end_time": "2021-10-22T08:16:23.518774",
     "exception": false,
     "start_time": "2021-10-22T08:16:21.847252",
     "status": "completed"
    },
    "tags": []
   },
   "outputs": [],
   "source": [
    "assert sum(sample_sub['image_name'] == final_result['image_name']) == 61191"
   ]
  },
  {
   "cell_type": "code",
   "execution_count": null,
   "metadata": {
    "execution": {
     "iopub.execute_input": "2021-10-22T08:16:26.532909Z",
     "iopub.status.busy": "2021-10-22T08:16:26.532119Z",
     "iopub.status.idle": "2021-10-22T08:16:26.556602Z",
     "shell.execute_reply": "2021-10-22T08:16:26.556162Z"
    },
    "papermill": {
     "duration": 1.528843,
     "end_time": "2021-10-22T08:16:26.556721",
     "exception": false,
     "start_time": "2021-10-22T08:16:25.027878",
     "status": "completed"
    },
    "tags": []
   },
   "outputs": [],
   "source": [
    "final_result['image_name'] = final_result['image_name'].apply(lambda x: x[:-4])\n",
    "final_result.head()"
   ]
  },
  {
   "cell_type": "code",
   "execution_count": null,
   "metadata": {
    "execution": {
     "iopub.execute_input": "2021-10-22T08:16:29.807542Z",
     "iopub.status.busy": "2021-10-22T08:16:29.804954Z",
     "iopub.status.idle": "2021-10-22T08:16:30.093872Z",
     "shell.execute_reply": "2021-10-22T08:16:30.094648Z"
    },
    "papermill": {
     "duration": 2.042213,
     "end_time": "2021-10-22T08:16:30.094965",
     "exception": false,
     "start_time": "2021-10-22T08:16:28.052752",
     "status": "completed"
    },
    "tags": []
   },
   "outputs": [],
   "source": [
    "final_result.to_csv('best_submission.csv', index=False)"
   ]
  }
 ],
 "metadata": {
  "kernelspec": {
   "display_name": "Python 3",
   "language": "python",
   "name": "python3"
  },
  "language_info": {
   "codemirror_mode": {
    "name": "ipython",
    "version": 3
   },
   "file_extension": ".py",
   "mimetype": "text/x-python",
   "name": "python",
   "nbconvert_exporter": "python",
   "pygments_lexer": "ipython3",
   "version": "3.8.5"
  },
  "papermill": {
   "default_parameters": {},
   "duration": 5391.542357,
   "end_time": "2021-10-22T08:16:35.084819",
   "environment_variables": {},
   "exception": null,
   "input_path": "__notebook__.ipynb",
   "output_path": "__notebook__.ipynb",
   "parameters": {},
   "start_time": "2021-10-22T06:46:43.542462",
   "version": "2.3.3"
  }
 },
 "nbformat": 4,
 "nbformat_minor": 5
}
